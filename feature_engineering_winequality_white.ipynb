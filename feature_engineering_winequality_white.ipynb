{
  "nbformat": 4,
  "nbformat_minor": 0,
  "metadata": {
    "colab": {
      "provenance": [],
      "authorship_tag": "ABX9TyOkNH1w+Kjzza9M53PhHlei",
      "include_colab_link": true
    },
    "kernelspec": {
      "name": "python3",
      "display_name": "Python 3"
    },
    "language_info": {
      "name": "python"
    }
  },
  "cells": [
    {
      "cell_type": "markdown",
      "metadata": {
        "id": "view-in-github",
        "colab_type": "text"
      },
      "source": [
        "<a href=\"https://colab.research.google.com/github/ayamgabenedict/Bookshelf-API/blob/main/feature_engineering_winequality_white.ipynb\" target=\"_parent\"><img src=\"https://colab.research.google.com/assets/colab-badge.svg\" alt=\"Open In Colab\"/></a>"
      ]
    },
    {
      "cell_type": "code",
      "execution_count": 1,
      "metadata": {
        "id": "atzPm_ZHoY7G"
      },
      "outputs": [],
      "source": [
        "import pandas as pd\n",
        "import numpy as np\n",
        "\n",
        "# Add new features\n",
        "def new_features(data):\n",
        "    data['total_acidity'] = data['fixed acidity'] + data['volatile acidity']\n",
        "    data['alcohol_to_fixed_acidity_ratio'] = data['alcohol'] / data['fixed acidity']\n",
        "    data['residual_sugar_to_total_sulfur_dioxide_ratio'] = data['residual sugar'] / data['total sulfur dioxide']\n",
        "    data['citric_acid_to_volatile_acidity_ratio'] = data['citric acid'] / data['volatile acidity']\n",
        "    data['total_acidity_to_ph_ratio'] = data['total_acidity'] / data['pH']\n",
        "    return data\n",
        "\n"
      ]
    },
    {
      "cell_type": "code",
      "source": [
        "# Load the Wine Quality dataset\n",
        "white_wine_data = pd.read_csv('winequality-white.csv', sep=';')\n",
        "\n"
      ],
      "metadata": {
        "id": "qSdqyLv2m8yt"
      },
      "execution_count": 3,
      "outputs": []
    },
    {
      "cell_type": "code",
      "source": [
        "# Call the function to engineer features\n",
        "white_wine_data = new_features(white_wine_data)\n",
        "\n"
      ],
      "metadata": {
        "id": "vuFqFlS3nOSa"
      },
      "execution_count": 4,
      "outputs": []
    },
    {
      "cell_type": "code",
      "source": [
        "# Display the first few rows of the modified dataset\n",
        "print(white_wine_data.head())"
      ],
      "metadata": {
        "colab": {
          "base_uri": "https://localhost:8080/"
        },
        "id": "iLaPkFJ4nTK_",
        "outputId": "a6579444-334b-447e-ac70-5b1ff64701ed"
      },
      "execution_count": 5,
      "outputs": [
        {
          "output_type": "stream",
          "name": "stdout",
          "text": [
            "   fixed acidity  volatile acidity  citric acid  residual sugar  chlorides  \\\n",
            "0            7.0              0.27         0.36            20.7      0.045   \n",
            "1            6.3              0.30         0.34             1.6      0.049   \n",
            "2            8.1              0.28         0.40             6.9      0.050   \n",
            "3            7.2              0.23         0.32             8.5      0.058   \n",
            "4            7.2              0.23         0.32             8.5      0.058   \n",
            "\n",
            "   free sulfur dioxide  total sulfur dioxide  density    pH  sulphates  \\\n",
            "0                 45.0                 170.0   1.0010  3.00       0.45   \n",
            "1                 14.0                 132.0   0.9940  3.30       0.49   \n",
            "2                 30.0                  97.0   0.9951  3.26       0.44   \n",
            "3                 47.0                 186.0   0.9956  3.19       0.40   \n",
            "4                 47.0                 186.0   0.9956  3.19       0.40   \n",
            "\n",
            "   alcohol  quality  total_acidity  alcohol_to_fixed_acidity_ratio  \\\n",
            "0      8.8        6           7.27                        1.257143   \n",
            "1      9.5        6           6.60                        1.507937   \n",
            "2     10.1        6           8.38                        1.246914   \n",
            "3      9.9        6           7.43                        1.375000   \n",
            "4      9.9        6           7.43                        1.375000   \n",
            "\n",
            "   residual_sugar_to_total_sulfur_dioxide_ratio  \\\n",
            "0                                      0.121765   \n",
            "1                                      0.012121   \n",
            "2                                      0.071134   \n",
            "3                                      0.045699   \n",
            "4                                      0.045699   \n",
            "\n",
            "   citric_acid_to_volatile_acidity_ratio  total_acidity_to_ph_ratio  \n",
            "0                               1.333333                   2.423333  \n",
            "1                               1.133333                   2.000000  \n",
            "2                               1.428571                   2.570552  \n",
            "3                               1.391304                   2.329154  \n",
            "4                               1.391304                   2.329154  \n"
          ]
        }
      ]
    },
    {
      "cell_type": "code",
      "source": [
        "#QUESTION 1:  Impact of Engineered Features on Model Performance\n",
        "\n",
        "\n",
        "#By performing feature engineering on the “winequality-white.csv” dataset, it is possible to determine the effect of these engineering traits on the model's performance as follows:\n",
        "\n",
        "#Total Acidity which formula is calculated in the code determines the wine’s overall level of acidity. Acidity being a key determinant of wine quality, it might improve performance.\n",
        "\n",
        "#The Ratio of Alcohol to Fixed Acidity shows how the wine's quality is influenced by the balance between alcohol and acidity and thus, wine quality relies on the harmony between alcohol and acidity.\n",
        "\n",
        "#Also, the Total Sulfur Dioxide to Residual Sugar Ratio can significantly influence the performance of the model and this information is valuable to wine quality.\n",
        "\n",
        "#Another engineered feature that influences model performance is the Ratio of Volatile Acidity to Citric Acid. This ratio accurately reflects the connection between citric acid and volatile acidity and makes it easier to comprehend how these two qualities interact and as such, help forecast wine quality.\n",
        "\n",
        "#The Acidity to pH Ratio Overall is a strong predictor of wine quality and is necessary to maintain a balance between these two features improve model performance\n",
        "\n",
        "#In conclusion, by applying the right machine learning model and comparing its performance with and without these features, the most pertinent features that lead to better model performance can also be found via feature selection strategies.\n",
        "\n"
      ],
      "metadata": {
        "id": "EsrFEGQ68EbF"
      },
      "execution_count": null,
      "outputs": []
    }
  ]
}